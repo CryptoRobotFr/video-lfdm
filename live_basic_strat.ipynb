{
  "nbformat": 4,
  "nbformat_minor": 0,
  "metadata": {
    "colab": {
      "name": "live_basic_strat.ipynb",
      "provenance": [],
      "collapsed_sections": [],
      "authorship_tag": "ABX9TyM5wG30W26vAC8zCDcV7aZg",
      "include_colab_link": true
    },
    "kernelspec": {
      "name": "python3",
      "display_name": "Python 3"
    },
    "language_info": {
      "name": "python"
    }
  },
  "cells": [
    {
      "cell_type": "markdown",
      "metadata": {
        "id": "view-in-github",
        "colab_type": "text"
      },
      "source": [
        "<a href=\"https://colab.research.google.com/github/CryptoRobotFr/video-lfdm/blob/main/live_basic_strat.ipynb\" target=\"_parent\"><img src=\"https://colab.research.google.com/assets/colab-badge.svg\" alt=\"Open In Colab\"/></a>"
      ]
    },
    {
      "cell_type": "code",
      "execution_count": null,
      "metadata": {
        "id": "7DL2ovORgm4j"
      },
      "outputs": [],
      "source": [
        "!pip install ta ccxt"
      ]
    },
    {
      "cell_type": "code",
      "source": [
        "import ccxt\n",
        "import pandas as pd\n",
        "import numpy as np\n",
        "import ta\n",
        "\n",
        "ftx_auth_object = {\n",
        "    \"apiKey\": \"Xam6UD2WsA8rnP-B3BoszzvDuuTMIJOUmWQOfBfa\",\n",
        "    \"secret\": \"O0BjYlBJu6ZLp3d500rrfh1swabyT5AdRwZgGIeL\",\n",
        "    'headers': {\n",
        "        'FTX-SUBACCOUNT': \"strat_1\"\n",
        "    }\n",
        "}\n",
        "\n",
        "session = ccxt.ftx(ftx_auth_object)\n",
        "session.load_markets()\n",
        "\n",
        "pair_symbol = \"BTC/USDT\"\n",
        "symbol_coin = \"BTC\"\n",
        "symbol_usd = \"USDT\"\n",
        "timeframe = \"1h\"\n",
        "limit = 1000\n",
        "\n",
        "df = pd.DataFrame(data=session.fetch_ohlcv(\n",
        "    pair_symbol, timeframe, None, limit=limit))\n",
        "df = df.rename(\n",
        "    columns={0: 'timestamp', 1: 'open', 2: 'high', 3: 'low', 4: 'close', 5: 'volume'})\n",
        "df = df.set_index(df['timestamp'])\n",
        "df.index = pd.to_datetime(df.index, unit='ms')\n",
        "del df['timestamp']\n",
        "\n",
        "df['ema1'] = ta.trend.ema_indicator(close = df['close'], window = 25) # Moyenne exponentiel courte\n",
        "df['ema2'] = ta.trend.ema_indicator(close = df['close'], window = 45) # Moyenne exponentiel moyenne\n",
        "df['sma_long'] = ta.trend.sma_indicator(close = df['close'], window = 600) # Moyenne simple longue\n",
        "df['stoch_rsi'] = ta.momentum.stochrsi(close = df['close'], window = 14) # Stochastic RSI non moyenné (K=1 sur Trading View)\n",
        "\n",
        "def get_balance(symbol):\n",
        "    balance = 0\n",
        "    try:\n",
        "        balance = pd.DataFrame(session.fetchBalance())['total'][symbol]\n",
        "    except:\n",
        "        balance = 0\n",
        "    return balance\n",
        "\n",
        "balance_coin = get_balance(symbol_coin)\n",
        "balance_usd = get_balance(symbol_usd)\n",
        "row = df.iloc[-2]\n",
        "\n",
        "if row['ema1'] > row['ema2'] and row['stoch_rsi'] < 0.8 and row['close'] > row['sma_long'] and balance_usd > 10:\n",
        "    print(\"buy\")\n",
        "    amount_to_buy = balance_usd / row[\"close\"] \n",
        "    print(session.createOrder(\n",
        "                pair_symbol, \n",
        "                'market', \n",
        "                \"buy\", \n",
        "                session.amount_to_precision(pair_symbol, amount_to_buy),\n",
        "                None\n",
        "            ))\n",
        "elif row['ema2'] > row['ema1'] and row['stoch_rsi'] > 0.2 and  balance_coin*row['close'] > 10:\n",
        "    print(\"sell\")\n",
        "    amount_to_sell = balance_coin\n",
        "    print(session.createOrder(\n",
        "                pair_symbol, \n",
        "                'market', \n",
        "                \"sell\", \n",
        "                session.amount_to_precision(pair_symbol, amount_to_sell),\n",
        "                None\n",
        "            ))\n",
        "else:\n",
        "    print(\"Nothing to do just wait\")\n",
        "\n"
      ],
      "metadata": {
        "colab": {
          "base_uri": "https://localhost:8080/"
        },
        "id": "V4WJk2QZ6Fop",
        "outputId": "355756ff-c155-42ef-e036-7f1bc5a5a390"
      },
      "execution_count": 29,
      "outputs": [
        {
          "output_type": "stream",
          "name": "stdout",
          "text": [
            "sell\n",
            "{'info': {'id': '121357121708', 'clientId': None, 'market': 'BTC/USDT', 'type': 'market', 'side': 'sell', 'price': None, 'size': '0.0023', 'status': 'new', 'filledSize': '0.0', 'remainingSize': '0.0023', 'reduceOnly': False, 'liquidation': None, 'avgFillPrice': None, 'postOnly': False, 'ioc': True, 'createdAt': '2022-02-13T15:23:30.079843+00:00', 'future': None}, 'id': '121357121708', 'clientOrderId': None, 'timestamp': 1644765810079, 'datetime': '2022-02-13T15:23:30.079Z', 'lastTradeTimestamp': None, 'symbol': 'BTC/USDT', 'type': 'market', 'timeInForce': None, 'postOnly': False, 'side': 'sell', 'price': None, 'stopPrice': None, 'amount': 0.0023, 'cost': None, 'average': None, 'filled': 0.0, 'remaining': 0.0023, 'status': 'open', 'fee': None, 'trades': [], 'fees': []}\n"
          ]
        }
      ]
    }
  ]
}